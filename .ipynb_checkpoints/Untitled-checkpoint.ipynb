{
 "cells": [
  {
   "cell_type": "code",
   "execution_count": 1,
   "metadata": {
    "collapsed": true
   },
   "outputs": [],
   "source": [
    "import numpy as np, pandas as pd\n",
    "import copy\n",
    "import time\n",
    "from tools import dataload, prefix, generateCustomDetails"
   ]
  },
  {
   "cell_type": "code",
   "execution_count": 2,
   "metadata": {
    "scrolled": true
   },
   "outputs": [
    {
     "name": "stdout",
     "output_type": "stream",
     "text": [
      "数据读取开始: Fri Sep 22 21:27:32 2017\n",
      "fileload finished: ccf_offline_stage1_train.csv\n",
      "fileload finished: ccf_offline_stage1_test_revised.csv\n",
      "数据读取结束: Fri Sep 22 21:27:34 2017\n",
      "数据清洗开始: Fri Sep 22 21:27:34 2017\n",
      "数据清洗结束: Fri Sep 22 21:27:47 2017\n",
      "数据清洗开始: Fri Sep 22 21:27:47 2017\n",
      "数据清洗结束: Fri Sep 22 21:27:48 2017\n"
     ]
    }
   ],
   "source": [
    "[dfOflOri, dfOflpredOri] = dataload(folderpath = u'D://Workfiles/ATCBigData/201709CouponPrediction/data', filename = ['ccf_offline_stage1_train.csv', 'ccf_offline_stage1_test_revised.csv'])\n",
    "#[tbOflOri, tbOnlOri, tbOflpredOri] = dataload(folderpath = u'../data/ATCCouponPrediction', ['ccf_offline_stage1_train.csv', 'ccf_online_stage1_train.csv', 'ccf_offline_stage1_test_revised.csv'])\n",
    "\n",
    "# offline train集数据预处理\n",
    "dfOfl = copy.copy(dfOflOri)\n",
    "dfOfl = prefix(data = dfOfl, mode = 'train')\n",
    "#print('tbOfl: ', tbOfl)\n",
    "\n",
    "# offline test集数据预处理\n",
    "dfOflpred = copy.copy(dfOflpredOri)\n",
    "dfOflpred = prefix(data = dfOflpred, mode = 'test')\n",
    "#print('tbOflpred', tbOflpred)"
   ]
  },
  {
   "cell_type": "code",
   "execution_count": 5,
   "metadata": {},
   "outputs": [
    {
     "name": "stdout",
     "output_type": "stream",
     "text": [
      "         User_id  Merchant_id Coupon_id Distance Date_received       Date  \\\n",
      "1        1439408         4663     11002        1    2016-05-28        NaT   \n",
      "2        1439408         2632      8591        0    2016-02-17        NaT   \n",
      "3        1439408         2632      1078        0    2016-03-19        NaT   \n",
      "4        1439408         2632      8591        0    2016-06-13        NaT   \n",
      "6        1439408         2632      8591        0    2016-05-16 2016-06-13   \n",
      "7        1832624         3381      7610        0    2016-04-29        NaT   \n",
      "8        2029232         3381     11951        1    2016-01-29        NaT   \n",
      "9        2029232          450      1532        0    2016-05-30        NaT   \n",
      "10       2029232         6459     12737        0    2016-05-19        NaT   \n",
      "15        196342         1579     10698        1    2016-06-06        NaT   \n",
      "16       2223968         3381      9776        2    2016-01-29        NaT   \n",
      "18        163606         1569      5054       10    2016-04-21        NaT   \n",
      "19       3273056         4833      7802       10    2016-01-30        NaT   \n",
      "20         94107         3381      7610        2    2016-04-12        NaT   \n",
      "22        253750         6901      2366        0    2016-05-18        NaT   \n",
      "23        253750         8390      7531        0    2016-03-27        NaT   \n",
      "25        376492         1041     13490        2    2016-01-27        NaT   \n",
      "27       1964720         7884      6704       10    2016-02-15        NaT   \n",
      "31       1113008         3621      2705        0    2016-05-24        NaT   \n",
      "32       1113008         2277      1495        0    2016-05-23        NaT   \n",
      "33       1113008         1361     11166        0    2016-05-15 2016-05-21   \n",
      "35       1113008         1361     11166        0    2016-05-21        NaT   \n",
      "36       1113008         1041     11197        2    2016-01-14        NaT   \n",
      "37       2881376         5341       111        1    2016-02-07        NaT   \n",
      "38       2881376         8390      7531        0    2016-03-21 2016-03-29   \n",
      "39       2881376         5341       111        1    2016-02-07        NaT   \n",
      "41       4061024         2709      2840       10    2016-01-29        NaT   \n",
      "43       4061024         3381      7610       10    2016-04-26        NaT   \n",
      "44       4061024         7555      9871       10    2016-04-09        NaT   \n",
      "45       4061024         3381      9776       10    2016-01-29        NaT   \n",
      "...          ...          ...       ...      ...           ...        ...   \n",
      "1754828  1306544         8037      1789        0    2016-01-25        NaT   \n",
      "1754829  1306544         4660      1480        1    2016-01-25        NaT   \n",
      "1754831   118539          760      2418        0    2016-06-06        NaT   \n",
      "1754833  1437872         7706       416        4    2016-01-29 2016-02-02   \n",
      "1754834  1437872         7706     12097        4    2016-02-02        NaT   \n",
      "1754835  1437872         3381     11951        2    2016-01-29        NaT   \n",
      "1754839  3400544         6454     14031        2    2016-01-31        NaT   \n",
      "1754843    98091         1553     10027       10    2016-05-10        NaT   \n",
      "1754845  2876768         6901      2107        0    2016-05-31        NaT   \n",
      "1754850   179830         3381      1807        0    2016-01-24        NaT   \n",
      "1754851   179830         4059      7166        7    2016-01-24        NaT   \n",
      "1754853   179830         6434     10050        1    2016-01-23        NaT   \n",
      "1754854   179830         6284      4567        1    2016-01-24        NaT   \n",
      "1754855   179830         6284      7379        1    2016-01-24        NaT   \n",
      "1754856   179830         3710     13056        4    2016-01-24        NaT   \n",
      "1754857   179830         2099     12034        1    2016-01-24        NaT   \n",
      "1754858   179830         4660      1480        0    2016-01-25        NaT   \n",
      "1754859   179830         5341      7751        0    2016-01-23        NaT   \n",
      "1754860   179830         7555        17        7    2016-01-23        NaT   \n",
      "1754861   179830          760      3237        0    2016-01-24        NaT   \n",
      "1754862   179830         2099     12034        1    2016-02-03        NaT   \n",
      "1754866  3795296         5341       111        0    2016-01-29        NaT   \n",
      "1754869   188086         6568      4723        0    2016-04-15        NaT   \n",
      "1754873   212662         2934      5686        2    2016-03-21 2016-03-30   \n",
      "1754876   212662         3532      5267        1    2016-03-22        NaT   \n",
      "1754877   212662         3021      3739        6    2016-05-04 2016-05-08   \n",
      "1754878   212662         2934      5686        2    2016-03-21 2016-03-22   \n",
      "1754880   212662         3021      3739        6    2016-05-08 2016-06-02   \n",
      "1754882   752472         7113      1633        6    2016-06-13        NaT   \n",
      "1754883   752472         3621      2705        0    2016-05-23        NaT   \n",
      "\n",
      "         DiscThreshd  DiscVolume  DiscRate  UsedCouponWI15days  \n",
      "1              150.0        20.0  0.133332               False  \n",
      "2               20.0         1.0  0.049998               False  \n",
      "3               20.0         1.0  0.049998               False  \n",
      "4               20.0         1.0  0.049998               False  \n",
      "6               20.0         1.0  0.049998               False  \n",
      "7              200.0        20.0  0.100000               False  \n",
      "8              200.0        20.0  0.100000               False  \n",
      "9               30.0         5.0  0.166661               False  \n",
      "10              20.0         1.0  0.049998               False  \n",
      "15              20.0         1.0  0.049998               False  \n",
      "16              10.0         5.0  0.499950               False  \n",
      "18             200.0        30.0  0.149999               False  \n",
      "19             200.0        20.0  0.100000               False  \n",
      "20             200.0        20.0  0.100000               False  \n",
      "22              30.0         5.0  0.166661               False  \n",
      "23              20.0         5.0  0.249988               False  \n",
      "25              30.0         5.0  0.166661               False  \n",
      "27              20.0         1.0  0.049998               False  \n",
      "31              20.0         5.0  0.249988               False  \n",
      "32              30.0        10.0  0.333322               False  \n",
      "33              20.0         1.0  0.049998                True  \n",
      "35              20.0         1.0  0.049998               False  \n",
      "36              30.0         5.0  0.166661               False  \n",
      "37              30.0         5.0  0.166661               False  \n",
      "38              20.0         5.0  0.249988                True  \n",
      "39              30.0         5.0  0.166661               False  \n",
      "41             100.0        10.0  0.099999               False  \n",
      "43             200.0        20.0  0.100000               False  \n",
      "44              30.0         5.0  0.166661               False  \n",
      "45              10.0         5.0  0.499950               False  \n",
      "...              ...         ...       ...                 ...  \n",
      "1754828         30.0         5.0  0.166661               False  \n",
      "1754829        100.0        10.0  0.099999               False  \n",
      "1754831         30.0         5.0  0.166661               False  \n",
      "1754833        100.0        10.0  0.099999                True  \n",
      "1754834        100.0        10.0  0.099999               False  \n",
      "1754835        200.0        20.0  0.100000               False  \n",
      "1754839        100.0        10.0  0.099999               False  \n",
      "1754843          0.0         0.0  0.050000               False  \n",
      "1754845         30.0         5.0  0.166661               False  \n",
      "1754850        300.0        30.0  0.100000               False  \n",
      "1754851        100.0        10.0  0.099999               False  \n",
      "1754853         50.0         5.0  0.099998               False  \n",
      "1754854         50.0        10.0  0.199996               False  \n",
      "1754855         50.0        10.0  0.199996               False  \n",
      "1754856        150.0        10.0  0.066666               False  \n",
      "1754857        100.0        10.0  0.099999               False  \n",
      "1754858        100.0        10.0  0.099999               False  \n",
      "1754859         50.0        10.0  0.199996               False  \n",
      "1754860         30.0         5.0  0.166661               False  \n",
      "1754861         20.0         5.0  0.249988               False  \n",
      "1754862        100.0        10.0  0.099999               False  \n",
      "1754866         30.0         5.0  0.166661               False  \n",
      "1754869         30.0         1.0  0.033332               False  \n",
      "1754873         30.0         5.0  0.166661                True  \n",
      "1754876         30.0         5.0  0.166661               False  \n",
      "1754877         30.0         1.0  0.033332                True  \n",
      "1754878         30.0         5.0  0.166661                True  \n",
      "1754880         30.0         1.0  0.033332               False  \n",
      "1754882         50.0        10.0  0.199996               False  \n",
      "1754883         20.0         5.0  0.249988               False  \n",
      "\n",
      "[947279 rows x 10 columns]\n"
     ]
    }
   ],
   "source": [
    "print(dfOfl)"
   ]
  },
  {
   "cell_type": "code",
   "execution_count": 69,
   "metadata": {},
   "outputs": [
    {
     "name": "stdout",
     "output_type": "stream",
     "text": [
      "time consumed: 0.4396674633026123\n",
      "      merAverDiscRate  merAverDiscThreshd  merCouponCount  merCouponUsedCount  \\\n",
      "2            0.113304           36.859371               7                   0   \n",
      "3            0.113304           36.859371               8                   0   \n",
      "4            0.166661           30.000000               6                   5   \n",
      "5            0.249988           20.000000              22                   2   \n",
      "8            0.113304           36.859371               1                   0   \n",
      "11           0.113304           36.859371               5                   0   \n",
      "12           0.113304           36.859371               1                   0   \n",
      "13           0.100000            0.000000               3                   1   \n",
      "14           0.166661           30.000000              10                   1   \n",
      "15           0.249988           20.000000              75                  11   \n",
      "17           0.038424           26.944444              36                   2   \n",
      "18           0.049998           20.000000              13                   1   \n",
      "19           0.049998           20.000000              15                   1   \n",
      "20           0.130323           29.180328              61                   8   \n",
      "21           0.666644           30.000000               6                   1   \n",
      "23           0.113304           36.859371               5                   0   \n",
      "24           0.113304           36.859371               2                   0   \n",
      "25           0.036065           25.081967              61                  15   \n",
      "28           0.113304           36.859371              22                   0   \n",
      "33           0.166661           30.000000               3                   1   \n",
      "34           0.049998           20.000000               6                   1   \n",
      "35           0.113888          126.666667              60                   2   \n",
      "36           0.249988           20.000000               7                   2   \n",
      "39           0.113304           36.859371              23                   0   \n",
      "40           0.042471           24.516129              31                   6   \n",
      "42           0.200060           25.720165             486                  60   \n",
      "43           0.113304           36.859371               2                   0   \n",
      "44           0.113304           36.859371              17                   0   \n",
      "48           0.049998           20.000000              22                   8   \n",
      "50           0.049998           20.000000              24                  10   \n",
      "...               ...                 ...             ...                 ...   \n",
      "8808         0.099998           50.000000              62                  15   \n",
      "8809         0.099990           10.000000               6                   2   \n",
      "8812         0.249988           20.000000              78                  35   \n",
      "8817         0.113304           36.859371               1                   0   \n",
      "8819         0.113304           36.859371               7                   0   \n",
      "8822         0.049998           20.000000               3                   2   \n",
      "8824         0.049998           20.000000              14                   1   \n",
      "8825         0.113304           36.859371              28                   0   \n",
      "8827         0.249988           20.000000               5                   1   \n",
      "8828         0.033332           30.000000              13                   6   \n",
      "8830         0.113304           36.859371               2                   0   \n",
      "8831         0.207600           14.347826              46                   7   \n",
      "8833         0.113304           36.859371               4                   0   \n",
      "8835         0.113304           36.859371              22                   0   \n",
      "8836         0.113304           36.859371               2                   0   \n",
      "8837         0.113304           36.859371              16                   0   \n",
      "8838         0.113304           36.859371               4                   0   \n",
      "8839         0.043748           23.750000               8                   3   \n",
      "8840         0.049998           20.000000              17                   4   \n",
      "8841         0.113304           36.859371               4                   0   \n",
      "8842         0.499950           10.000000               1                   1   \n",
      "8843         0.057812          184.375000              32                   4   \n",
      "8844         0.103677          104.929577             213                   8   \n",
      "8847         0.113304           36.859371               2                   0   \n",
      "8848         0.113304           36.859371               4                   0   \n",
      "8849         0.049998           20.000000               2                   1   \n",
      "8850         0.049998           20.000000              11                   3   \n",
      "8852         0.113304           36.859371              11                   0   \n",
      "8854         0.113304           36.859371               8                   0   \n",
      "8856         0.056941           18.611111              36                   2   \n",
      "\n",
      "      merCouponUsedRate  merHighestDiscRate  merHighestDiscThreshd  \\\n",
      "2              0.000000            0.137958              41.231905   \n",
      "3              0.000000            0.137958              41.231905   \n",
      "4              0.833333            0.166661              30.000000   \n",
      "5              0.090909            0.249988              20.000000   \n",
      "8              0.000000            0.137958              41.231905   \n",
      "11             0.000000            0.137958              41.231905   \n",
      "12             0.000000            0.137958              41.231905   \n",
      "13             0.333333            0.100000               0.000000   \n",
      "14             0.100000            0.166661              30.000000   \n",
      "15             0.146667            0.249988              20.000000   \n",
      "17             0.055556            0.049998              30.000000   \n",
      "18             0.076923            0.049998              20.000000   \n",
      "19             0.066667            0.049998              20.000000   \n",
      "20             0.131148            0.249988              50.000000   \n",
      "21             0.166667            0.666644              30.000000   \n",
      "23             0.000000            0.137958              41.231905   \n",
      "24             0.000000            0.137958              41.231905   \n",
      "25             0.245902            0.050000              30.000000   \n",
      "28             0.000000            0.137958              41.231905   \n",
      "33             0.333333            0.166661              30.000000   \n",
      "34             0.166667            0.049998              20.000000   \n",
      "35             0.033333            0.199998             300.000000   \n",
      "36             0.285714            0.249988              20.000000   \n",
      "39             0.000000            0.137958              41.231905   \n",
      "40             0.193548            0.049998              30.000000   \n",
      "42             0.123457            0.249988              30.000000   \n",
      "43             0.000000            0.137958              41.231905   \n",
      "44             0.000000            0.137958              41.231905   \n",
      "48             0.363636            0.049998              20.000000   \n",
      "50             0.416667            0.049998              20.000000   \n",
      "...                 ...                 ...                    ...   \n",
      "8808           0.241935            0.099998              50.000000   \n",
      "8809           0.333333            0.099990              10.000000   \n",
      "8812           0.448718            0.249988              20.000000   \n",
      "8817           0.000000            0.137958              41.231905   \n",
      "8819           0.000000            0.137958              41.231905   \n",
      "8822           0.666667            0.049998              20.000000   \n",
      "8824           0.071429            0.049998              20.000000   \n",
      "8825           0.000000            0.137958              41.231905   \n",
      "8827           0.200000            0.249988              20.000000   \n",
      "8828           0.461538            0.033332              30.000000   \n",
      "8830           0.000000            0.137958              41.231905   \n",
      "8831           0.152174            0.249988              20.000000   \n",
      "8833           0.000000            0.137958              41.231905   \n",
      "8835           0.000000            0.137958              41.231905   \n",
      "8836           0.000000            0.137958              41.231905   \n",
      "8837           0.000000            0.137958              41.231905   \n",
      "8838           0.000000            0.137958              41.231905   \n",
      "8839           0.375000            0.049998              30.000000   \n",
      "8840           0.235294            0.049998              20.000000   \n",
      "8841           0.000000            0.137958              41.231905   \n",
      "8842           1.000000            0.499950              10.000000   \n",
      "8843           0.125000            0.099999             200.000000   \n",
      "8844           0.037559            0.133332             150.000000   \n",
      "8847           0.000000            0.137958              41.231905   \n",
      "8848           0.000000            0.137958              41.231905   \n",
      "8849           0.500000            0.049998              20.000000   \n",
      "8850           0.272727            0.049998              20.000000   \n",
      "8852           0.000000            0.137958              41.231905   \n",
      "8854           0.000000            0.137958              41.231905   \n",
      "8856           0.055556            0.099990              20.000000   \n",
      "\n",
      "      merLowestDiscRate  merLowestDiscThreshd  \n",
      "2              0.095317             31.336132  \n",
      "3              0.095317             31.336132  \n",
      "4              0.166661             30.000000  \n",
      "5              0.249988             20.000000  \n",
      "8              0.095317             31.336132  \n",
      "11             0.095317             31.336132  \n",
      "12             0.095317             31.336132  \n",
      "13             0.100000              0.000000  \n",
      "14             0.166661             30.000000  \n",
      "15             0.249988             20.000000  \n",
      "17             0.033332             20.000000  \n",
      "18             0.049998             20.000000  \n",
      "19             0.049998             20.000000  \n",
      "20             0.049998              0.000000  \n",
      "21             0.666644             30.000000  \n",
      "23             0.095317             31.336132  \n",
      "24             0.095317             31.336132  \n",
      "25             0.033332              0.000000  \n",
      "28             0.095317             31.336132  \n",
      "33             0.166661             30.000000  \n",
      "34             0.049998             20.000000  \n",
      "35             0.099999            100.000000  \n",
      "36             0.249988             20.000000  \n",
      "39             0.095317             31.336132  \n",
      "40             0.033332             20.000000  \n",
      "42             0.050000              0.000000  \n",
      "43             0.095317             31.336132  \n",
      "44             0.095317             31.336132  \n",
      "48             0.049998             20.000000  \n",
      "50             0.049998             20.000000  \n",
      "...                 ...                   ...  \n",
      "8808           0.099998             50.000000  \n",
      "8809           0.099990             10.000000  \n",
      "8812           0.249988             20.000000  \n",
      "8817           0.095317             31.336132  \n",
      "8819           0.095317             31.336132  \n",
      "8822           0.049998             20.000000  \n",
      "8824           0.049998             20.000000  \n",
      "8825           0.095317             31.336132  \n",
      "8827           0.249988             20.000000  \n",
      "8828           0.033332             30.000000  \n",
      "8830           0.095317             31.336132  \n",
      "8831           0.100000              0.000000  \n",
      "8833           0.095317             31.336132  \n",
      "8835           0.095317             31.336132  \n",
      "8836           0.095317             31.336132  \n",
      "8837           0.095317             31.336132  \n",
      "8838           0.095317             31.336132  \n",
      "8839           0.033332             20.000000  \n",
      "8840           0.049998             20.000000  \n",
      "8841           0.095317             31.336132  \n",
      "8842           0.499950             10.000000  \n",
      "8843           0.050000            100.000000  \n",
      "8844           0.050000              0.000000  \n",
      "8847           0.095317             31.336132  \n",
      "8848           0.095317             31.336132  \n",
      "8849           0.049998             20.000000  \n",
      "8850           0.049998             20.000000  \n",
      "8852           0.095317             31.336132  \n",
      "8854           0.095317             31.336132  \n",
      "8856           0.049998             10.000000  \n",
      "\n",
      "[5363 rows x 9 columns]\n"
     ]
    }
   ],
   "source": [
    "from imp import reload\n",
    "reload(tools)\n",
    "from tools import generateMerchtDetails\n",
    "t0 = time.time()\n",
    "\n",
    "merchants = tools.generateMerchtDetails(dfOfl)\n",
    "\n",
    "print('time consumed: %s'%(time.time() - t0))\n",
    "print(merchants)"
   ]
  },
  {
   "cell_type": "code",
   "execution_count": 39,
   "metadata": {
    "collapsed": true
   },
   "outputs": [],
   "source": [
    "gcustomOfl = dfOfl.groupby('User_id')\n",
    "gcustomOflIndSet = gcustomOfl.indices\n",
    "gcustomOflInd = list(gcustomOflIndSet)\n",
    "gcustomOflCount = gcustomOfl.ngroups\n",
    "\n",
    "cusGetCouponCount = np.zeros([gcustomOflCount], dtype = int)\n",
    "cusUseCouponCount = np.zeros([gcustomOflCount], dtype = int)\n",
    "cusUseCouponRate = np.zeros([gcustomOflCount])\n",
    "cusLowestDiscRate = np.zeros([gcustomOflCount])\n",
    "cusAverDiscRate = np.zeros([gcustomOflCount])\n",
    "cusHighestDiscRate = np.zeros([gcustomOflCount])\n",
    "cusLowestDiscThreshd = np.zeros([gcustomOflCount])\n",
    "cusAverDiscThreshd = np.zeros([gcustomOflCount])\n",
    "cusHighestDiscThreshd = np.zeros([gcustomOflCount])\n"
   ]
  },
  {
   "cell_type": "code",
   "execution_count": null,
   "metadata": {
    "collapsed": true
   },
   "outputs": [],
   "source": [
    "gmerchtOfl = dfOfl.groupby('Merchant_id')\n",
    "gmerchtOflIndSet = gmerchtOfl.indices\n",
    "gmerchtOflInd = list(gmerchtOflIndSet)\n",
    "gmerchtOflCount = gmerchtOfl.ngroups\n",
    "\n",
    "merCouponCount = np.zeros([gmerchtOflCount], dtype = int)\n",
    "merCouponUsedCount = np.zeros([gmerchtOflCount], dtype = int)\n",
    "merCouponUsedRate = np.zeros([gmerchtOflCount])\n",
    "merLowestDiscRate = np.zeros([gmerchtOflCount])\n",
    "merAverDiscRate = np.zeros([gmerchtOflCount])\n",
    "merHighestDiscRate = np.zeros([gmerchtOflCount])\n",
    "merLowestDiscThreshd = np.zeros([gmerchtOflCount])\n",
    "merAverDiscThreshd = np.zeros([gmerchtOflCount])\n",
    "merHighestDiscThreshd = np.zeros([gmerchtOflCount])"
   ]
  },
  {
   "cell_type": "code",
   "execution_count": 29,
   "metadata": {},
   "outputs": [
    {
     "data": {
      "text/plain": [
       "array([2, 4, 2, ..., 4, 1, 2])"
      ]
     },
     "execution_count": 29,
     "metadata": {},
     "output_type": "execute_result"
    }
   ],
   "source": [
    "cusGetCouponCount = np.array(gcustomOfl.count().iloc[:, 0], dtype = int)\n",
    "cusGetCouponCount"
   ]
  },
  {
   "cell_type": "code",
   "execution_count": 55,
   "metadata": {},
   "outputs": [
    {
     "data": {
      "text/plain": [
       "array([ 7,  8,  6, ..., 11,  8, 36])"
      ]
     },
     "execution_count": 55,
     "metadata": {},
     "output_type": "execute_result"
    }
   ],
   "source": [
    "merCouponCount = np.array(gmerchtOfl.count().iloc[:, 0], dtype = int)\n",
    "merCouponCount"
   ]
  },
  {
   "cell_type": "code",
   "execution_count": 31,
   "metadata": {},
   "outputs": [
    {
     "name": "stdout",
     "output_type": "stream",
     "text": [
      "[0 0 0 ..., 0 0 0]\n"
     ]
    }
   ],
   "source": [
    "i = 0\n",
    "arrOfl_UsedCouponWI15days = np.array(dfOfl['UsedCouponWI15days'])\n",
    "for key,value in gcustomOflIndSet.items():\n",
    "    cusUseCouponCount[i] = arrOfl_UsedCouponWI15days[value].sum()\n",
    "    i += 1\n",
    "del(arrOfl_UsedCouponWI15days)\n",
    "cusUseCouponAL1T = cusUseCouponCount > 0\n",
    "nCusUseCouponAL1T = np.sum(cusUseCouponAL1T)\n",
    "print(cusUseCouponCount)"
   ]
  },
  {
   "cell_type": "code",
   "execution_count": 63,
   "metadata": {},
   "outputs": [
    {
     "name": "stdout",
     "output_type": "stream",
     "text": [
      "[0 0 5 ..., 0 0 2]\n",
      "3454\n"
     ]
    }
   ],
   "source": [
    "i = 0\n",
    "arrOfl_UsedCouponWI15days = np.array(dfOfl['UsedCouponWI15days'])\n",
    "for key,value in gmerchtOflIndSet.items():\n",
    "    merCouponUsedCount[i] = arrOfl_UsedCouponWI15days[value].sum()\n",
    "    i += 1\n",
    "del(arrOfl_UsedCouponWI15days)\n",
    "merCouponUsedAL1T = merCouponUsedCount > 0\n",
    "nMerCouponUsedAL1T = np.sum(merCouponUsedAL1T)\n",
    "print(merCouponUsedCount)\n",
    "print(nMerCouponUsedAL1T)"
   ]
  },
  {
   "cell_type": "code",
   "execution_count": 32,
   "metadata": {},
   "outputs": [
    {
     "name": "stdout",
     "output_type": "stream",
     "text": [
      "[ 0.  0.  0. ...,  0.  0.  0.]\n"
     ]
    }
   ],
   "source": [
    "cusUseCouponRate = map(lambda x,y:y == 0 and 0 or x/y, cusUseCouponCount.reshape(-1).tolist(), cusGetCouponCount.reshape(-1).tolist())\n",
    "cusUseCouponRate = np.array(list(cusUseCouponRate))\n",
    "print(cusUseCouponRate)"
   ]
  },
  {
   "cell_type": "code",
   "execution_count": 62,
   "metadata": {},
   "outputs": [
    {
     "name": "stdout",
     "output_type": "stream",
     "text": [
      "[ 0.          0.          0.83333333 ...,  0.          0.          0.05555556]\n"
     ]
    }
   ],
   "source": [
    "merCouponUsedRate = map(lambda x,y:y == 0 and 0 or x/y, merCouponUsedCount.reshape(-1).tolist(), merCouponCount.reshape(-1).tolist())\n",
    "merCouponUsedRate = np.array(list(merCouponUsedRate))\n",
    "print(merCouponUsedRate)"
   ]
  },
  {
   "cell_type": "code",
   "execution_count": 33,
   "metadata": {},
   "outputs": [
    {
     "name": "stdout",
     "output_type": "stream",
     "text": [
      "[ 0.12466624  0.12466624  0.12466624 ...,  0.12466624  0.12466624\n",
      "  0.12466624] [ 0.16623702  0.16623702  0.16623702 ...,  0.16623702  0.16623702\n",
      "  0.16623702] [ 0.22131094  0.22131094  0.22131094 ...,  0.22131094  0.22131094\n",
      "  0.22131094]\n"
     ]
    }
   ],
   "source": [
    "i = 0\n",
    "arrOfl_DiscRate = np.array(dfOfl['DiscRate'], dtype = float)\n",
    "for key,value in gcustomOflIndSet.items():\n",
    "    discRate = arrOfl_DiscRate[value]\n",
    "    cusLowestDiscRate[i] = np.min(discRate)\n",
    "    cusAverDiscRate[i] = np.mean(discRate)\n",
    "    cusHighestDiscRate[i] = np.max(discRate)\n",
    "    i += 1\n",
    "cusLowestDiscRate_aver = np.sum(cusUseCouponAL1T * cusLowestDiscRate) / nCusUseCouponAL1T\n",
    "cusAverDiscRate_aver = np.sum(cusUseCouponAL1T * cusAverDiscRate) / nCusUseCouponAL1T\n",
    "cusHighestDiscRate_aver = np.sum(cusUseCouponAL1T * cusHighestDiscRate) / nCusUseCouponAL1T\n",
    "cusLowestDiscRate[~cusUseCouponAL1T] = cusLowestDiscRate_aver\n",
    "cusAverDiscRate[~cusUseCouponAL1T] = cusAverDiscRate_aver\n",
    "cusHighestDiscRate[~cusUseCouponAL1T] = cusHighestDiscRate_aver\n",
    "del(arrOfl_DiscRate)\n",
    "print(cusLowestDiscRate, cusAverDiscRate, cusHighestDiscRate)"
   ]
  },
  {
   "cell_type": "code",
   "execution_count": 65,
   "metadata": {},
   "outputs": [
    {
     "name": "stdout",
     "output_type": "stream",
     "text": [
      "[ 0.09531683  0.09531683  0.16666111 ...,  0.09531683  0.09531683\n",
      "  0.0499975 ] [ 0.11330439  0.11330439  0.16666111 ...,  0.11330439  0.11330439\n",
      "  0.0569409 ] [ 0.13795751  0.13795751  0.16666111 ...,  0.13795751  0.13795751  0.09999   ]\n"
     ]
    }
   ],
   "source": [
    "i = 0\n",
    "arrOfl_DiscRate = np.array(dfOfl['DiscRate'], dtype = float)\n",
    "for key,value in gmerchtOflIndSet.items():\n",
    "    discRate = arrOfl_DiscRate[value]\n",
    "    merLowestDiscRate[i] = np.min(discRate)\n",
    "    merAverDiscRate[i] = np.mean(discRate)\n",
    "    merHighestDiscRate[i] = np.max(discRate)\n",
    "    i += 1\n",
    "merLowestDiscRate_aver = np.sum(merCouponUsedAL1T * merLowestDiscRate) / nMerCouponUsedAL1T\n",
    "merAverDiscRate_aver = np.sum(merCouponUsedAL1T * merAverDiscRate) / nMerCouponUsedAL1T\n",
    "merHighestDiscRate_aver = np.sum(merCouponUsedAL1T * merHighestDiscRate) / nMerCouponUsedAL1T\n",
    "merLowestDiscRate[~merCouponUsedAL1T] = merLowestDiscRate_aver\n",
    "merAverDiscRate[~merCouponUsedAL1T] = merAverDiscRate_aver\n",
    "merHighestDiscRate[~merCouponUsedAL1T] = merHighestDiscRate_aver\n",
    "del(arrOfl_DiscRate)\n",
    "print(merLowestDiscRate, merAverDiscRate, merHighestDiscRate)"
   ]
  },
  {
   "cell_type": "code",
   "execution_count": 22,
   "metadata": {
    "collapsed": true
   },
   "outputs": [
    {
     "name": "stdout",
     "output_type": "stream",
     "text": [
      "[[ 27.56063354]\n",
      " [ 27.56063354]\n",
      " [ 27.56063354]\n",
      " ..., \n",
      " [ 27.56063354]\n",
      " [ 27.56063354]\n",
      " [ 27.56063354]] [[ 47.90723067]\n",
      " [ 47.90723067]\n",
      " [ 47.90723067]\n",
      " ..., \n",
      " [ 47.90723067]\n",
      " [ 47.90723067]\n",
      " [ 47.90723067]] [[ 83.3695529]\n",
      " [ 83.3695529]\n",
      " [ 83.3695529]\n",
      " ..., \n",
      " [ 83.3695529]\n",
      " [ 83.3695529]\n",
      " [ 83.3695529]]\n"
     ]
    }
   ],
   "source": [
    "i = 0\n",
    "arrOfl_DiscThreshd = np.array(dfOfl['DiscThreshd'], dtype = float)\n",
    "for key,value in gcustomOflIndSet.items():\n",
    "    discThreshd = arrOfl_DiscThreshd[value]\n",
    "    cusLowestDiscThreshd[i] = np.min(discThreshd)\n",
    "    cusAverDiscThreshd[i] = np.mean(discThreshd)\n",
    "    cusHighestDiscThreshd[i] = np.max(discThreshd)\n",
    "    i += 1\n",
    "cusLowestDiscThreshd_aver = np.sum(cusUseCouponAL1T * cusLowestDiscThreshd) / nCusUseCouponAL1T\n",
    "cusAverDiscThreshd_aver = np.sum(cusUseCouponAL1T * cusAverDiscThreshd) / nCusUseCouponAL1T\n",
    "cusHighestDiscThreshd_aver = np.sum(cusUseCouponAL1T * cusHighestDiscThreshd) / nCusUseCouponAL1T\n",
    "cusLowestDiscThreshd[~cusUseCouponAL1T] = cusLowestDiscThreshd_aver\n",
    "cusAverDiscThreshd[~cusUseCouponAL1T] = cusAverDiscThreshd_aver\n",
    "cusHighestDiscThreshd[~cusUseCouponAL1T] = cusHighestDiscThreshd_aver\n",
    "del(arrOfl_DiscThreshd)\n",
    "print(cusLowestDiscThreshd, cusAverDiscThreshd, cusHighestDiscThreshd)"
   ]
  },
  {
   "cell_type": "code",
   "execution_count": 66,
   "metadata": {},
   "outputs": [
    {
     "name": "stdout",
     "output_type": "stream",
     "text": [
      "[ 31.33613202  31.33613202  30.         ...,  31.33613202  31.33613202  10.        ] [ 36.85937067  36.85937067  30.         ...,  36.85937067  36.85937067\n",
      "  18.61111111] [ 41.23190504  41.23190504  30.         ...,  41.23190504  41.23190504  20.        ]\n"
     ]
    }
   ],
   "source": [
    "i = 0\n",
    "arrOfl_DiscThreshd = np.array(dfOfl['DiscThreshd'], dtype = float)\n",
    "for key,value in gmerchtOflIndSet.items():\n",
    "    discThreshd = arrOfl_DiscThreshd[value]\n",
    "    merLowestDiscThreshd[i] = np.min(discThreshd)\n",
    "    merAverDiscThreshd[i] = np.mean(discThreshd)\n",
    "    merHighestDiscThreshd[i] = np.max(discThreshd)\n",
    "    i += 1\n",
    "merLowestDiscThreshd_aver = np.sum(merCouponUsedAL1T * merLowestDiscThreshd) / nMerCouponUsedAL1T\n",
    "merAverDiscThreshd_aver = np.sum(merCouponUsedAL1T * merAverDiscThreshd) / nMerCouponUsedAL1T\n",
    "merHighestDiscThreshd_aver = np.sum(merCouponUsedAL1T * merHighestDiscThreshd) / nMerCouponUsedAL1T\n",
    "merLowestDiscThreshd[~merCouponUsedAL1T] = merLowestDiscThreshd_aver\n",
    "merAverDiscThreshd[~merCouponUsedAL1T] = merAverDiscThreshd_aver\n",
    "merHighestDiscThreshd[~merCouponUsedAL1T] = merHighestDiscThreshd_aver\n",
    "del(arrOfl_DiscThreshd)\n",
    "print(merLowestDiscThreshd, merAverDiscThreshd, merHighestDiscThreshd)"
   ]
  },
  {
   "cell_type": "code",
   "execution_count": 23,
   "metadata": {},
   "outputs": [
    {
     "data": {
      "text/plain": [
       "array([[ 83.3695529],\n",
       "       [ 83.3695529],\n",
       "       [ 83.3695529],\n",
       "       ..., \n",
       "       [ 83.3695529],\n",
       "       [ 83.3695529],\n",
       "       [ 83.3695529]])"
      ]
     },
     "execution_count": 23,
     "metadata": {},
     "output_type": "execute_result"
    }
   ],
   "source": [
    "cusHighestDiscThreshd"
   ]
  },
  {
   "cell_type": "code",
   "execution_count": 289,
   "metadata": {},
   "outputs": [
    {
     "ename": "ImportError",
     "evalue": "cannot import name 'generateCustomDetails'",
     "output_type": "error",
     "traceback": [
      "\u001b[1;31m---------------------------------------------------------------------------\u001b[0m",
      "\u001b[1;31mImportError\u001b[0m                               Traceback (most recent call last)",
      "\u001b[1;32m<ipython-input-289-f85d48ac7710>\u001b[0m in \u001b[0;36m<module>\u001b[1;34m()\u001b[0m\n\u001b[1;32m----> 1\u001b[1;33m \u001b[1;32mfrom\u001b[0m \u001b[0mtools\u001b[0m \u001b[1;32mimport\u001b[0m \u001b[0mgenerateCustomDetails\u001b[0m\u001b[1;33m\u001b[0m\u001b[0m\n\u001b[0m",
      "\u001b[1;31mImportError\u001b[0m: cannot import name 'generateCustomDetails'"
     ]
    }
   ],
   "source": [
    "from tools import generate"
   ]
  },
  {
   "cell_type": "code",
   "execution_count": null,
   "metadata": {
    "collapsed": true
   },
   "outputs": [],
   "source": []
  }
 ],
 "metadata": {
  "kernelspec": {
   "display_name": "Python 3",
   "language": "python",
   "name": "python3"
  },
  "language_info": {
   "codemirror_mode": {
    "name": "ipython",
    "version": 3
   },
   "file_extension": ".py",
   "mimetype": "text/x-python",
   "name": "python",
   "nbconvert_exporter": "python",
   "pygments_lexer": "ipython3",
   "version": "3.6.1"
  }
 },
 "nbformat": 4,
 "nbformat_minor": 2
}
